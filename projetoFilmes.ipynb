{
 "cells": [
  {
   "cell_type": "code",
   "execution_count": 10,
   "metadata": {},
   "outputs": [],
   "source": [
    "import pandas as pd\n",
    "#importando o arquivo csv\n",
    "filmes_df = pd.read_csv('top_rated_9000_movies_on_TMDB_Puro.csv', sep=',')\n",
    "filmes_df\n",
    "\n",
    "# excluindo as colunas desnecessárias\n",
    "\n",
    "filmes_df = filmes_df.drop(columns=['original_language', 'genre_ids'])\n",
    "filmes_df\n",
    "\n",
    "# renomeando as colunas\n",
    "\n",
    "filmes_df = filmes_df.rename(columns={'id': 'Id', 'title': 'Titulo', 'release_date': \"Data de Lançamento\", 'vote_average': 'Media de Voto', 'vote_count': 'Contagem de Voto', 'popularity': 'Popularidade', 'overview': 'Resumo', 'Genres': \"Genero\"})\n",
    "filmes_df\n",
    "\n",
    "filmes_df.to_csv('FilmesDataSet.csv', sep=';')\n",
    "\n",
    "\n"
   ]
  }
 ],
 "metadata": {
  "kernelspec": {
   "display_name": "Python 3",
   "language": "python",
   "name": "python3"
  },
  "language_info": {
   "codemirror_mode": {
    "name": "ipython",
    "version": 3
   },
   "file_extension": ".py",
   "mimetype": "text/x-python",
   "name": "python",
   "nbconvert_exporter": "python",
   "pygments_lexer": "ipython3",
   "version": "3.9.13"
  }
 },
 "nbformat": 4,
 "nbformat_minor": 2
}
